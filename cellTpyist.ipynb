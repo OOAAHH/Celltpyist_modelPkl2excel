{
 "cells": [
  {
   "cell_type": "code",
   "execution_count": null,
   "metadata": {},
   "outputs": [],
   "source": [
    "from celltypist import models\n",
    "import numpy as np\n",
    "import pandas as pd"
   ]
  },
  {
   "cell_type": "code",
   "execution_count": null,
   "metadata": {},
   "outputs": [],
   "source": [
    "# 显示所有可用的marker\n",
    "models.models_description()"
   ]
  },
  {
   "cell_type": "code",
   "execution_count": null,
   "metadata": {},
   "outputs": [],
   "source": [
    "# 下载所有模型\n",
    "models.download_models()"
   ]
  },
  {
   "cell_type": "code",
   "execution_count": null,
   "metadata": {},
   "outputs": [],
   "source": [
    "#从上面的列表中选择模型。如果未提供 `model` 参数，默认为 `Immune_All_Low.pkl`。\n",
    "model = models.Model.load(model = 'Immune_All_High.pkl')"
   ]
  },
  {
   "cell_type": "code",
   "execution_count": null,
   "metadata": {},
   "outputs": [],
   "source": [
    "#检查模型中包含的细胞类型。\n",
    "model.cell_types"
   ]
  },
  {
   "cell_type": "code",
   "execution_count": null,
   "metadata": {},
   "outputs": [],
   "source": [
    "#模型摘要信息。\n",
    "model"
   ]
  },
  {
   "cell_type": "code",
   "execution_count": null,
   "metadata": {},
   "outputs": [],
   "source": [
    "#Top 10 markers 原有的方法 这个方法可以直接利用, 我做了一些修改, 增加前期的model选择\n",
    "# print(f\"[+] Retrieving model info from {SELECTED_MODEL}\")\n",
    "\n",
    "model = models.Model.load(model = 'Immune_All_Low.pkl')\n",
    "features = model.features\n",
    "celltypes = model.cell_types\n",
    "coef = model.classifier.coef_\n",
    "\n",
    "#Top 10 markers main 这也是原有的方法, 我利用了这个方法\n",
    "gene_index = np.argsort(-coef, axis = 1)[:, :10]\n",
    "gene_index = features[gene_index] # 一种索引方法, 使用gene_index作为索引, 从features中取出对应的元素\n",
    "gene_index = [\", \".join(list(x)) for x in gene_index]\n",
    "df_T10 = pd.DataFrame(gene_index, index = celltypes, columns = ['Top 10 important genes from the CellTypist model'])\n",
    "\n",
    "#保存数据框df_T10为CSV文件\n",
    "df_T10.to_csv('./Immune_All_Low.csv')"
   ]
  }
 ],
 "metadata": {
  "language_info": {
   "name": "python"
  }
 },
 "nbformat": 4,
 "nbformat_minor": 2
}
